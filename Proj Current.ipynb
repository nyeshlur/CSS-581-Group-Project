{
 "cells": [
  {
   "cell_type": "code",
   "execution_count": 1,
   "id": "1b90769a",
   "metadata": {},
   "outputs": [],
   "source": [
    "import pandas as pd\n",
    "import numpy as np\n",
    "import seaborn as sns\n",
    "from sklearn import metrics\n",
    "from sklearn import preprocessing\n",
    "from sklearn import model_selection\n",
    "from sklearn import feature_selection\n",
    "import matplotlib.pyplot as plt\n",
    "import xgboost\n",
    "import ast\n",
    "import operator\n",
    "import math\n",
    "%matplotlib inline"
   ]
  },
  {
   "cell_type": "code",
   "execution_count": 9,
   "id": "5ca97cf3",
   "metadata": {
    "scrolled": true
   },
   "outputs": [
    {
     "name": "stdout",
     "output_type": "stream",
     "text": [
      "<class 'pandas.core.frame.DataFrame'>\n",
      "RangeIndex: 36923 entries, 0 to 36922\n",
      "Data columns (total 75 columns):\n",
      " #   Column                                        Non-Null Count  Dtype  \n",
      "---  ------                                        --------------  -----  \n",
      " 0   id                                            36923 non-null  int64  \n",
      " 1   listing_url                                   36923 non-null  object \n",
      " 2   scrape_id                                     36923 non-null  float64\n",
      " 3   last_scraped                                  36923 non-null  object \n",
      " 4   name                                          36910 non-null  object \n",
      " 5   description                                   35710 non-null  object \n",
      " 6   neighborhood_overview                         22510 non-null  object \n",
      " 7   picture_url                                   36923 non-null  object \n",
      " 8   host_id                                       36923 non-null  int64  \n",
      " 9   host_url                                      36923 non-null  object \n",
      " 10  host_name                                     36812 non-null  object \n",
      " 11  host_since                                    36812 non-null  object \n",
      " 12  host_location                                 36714 non-null  object \n",
      " 13  host_about                                    21636 non-null  object \n",
      " 14  host_response_time                            21180 non-null  object \n",
      " 15  host_response_rate                            21180 non-null  object \n",
      " 16  host_acceptance_rate                          21821 non-null  object \n",
      " 17  host_is_superhost                             36812 non-null  object \n",
      " 18  host_thumbnail_url                            36812 non-null  object \n",
      " 19  host_picture_url                              36812 non-null  object \n",
      " 20  host_neighbourhood                            29726 non-null  object \n",
      " 21  host_listings_count                           36812 non-null  float64\n",
      " 22  host_total_listings_count                     36812 non-null  float64\n",
      " 23  host_verifications                            36923 non-null  object \n",
      " 24  host_has_profile_pic                          36812 non-null  object \n",
      " 25  host_identity_verified                        36812 non-null  object \n",
      " 26  neighbourhood                                 22511 non-null  object \n",
      " 27  neighbourhood_cleansed                        36923 non-null  object \n",
      " 28  neighbourhood_group_cleansed                  36923 non-null  object \n",
      " 29  latitude                                      36923 non-null  float64\n",
      " 30  longitude                                     36923 non-null  float64\n",
      " 31  property_type                                 36923 non-null  object \n",
      " 32  room_type                                     36923 non-null  object \n",
      " 33  accommodates                                  36923 non-null  int64  \n",
      " 34  bathrooms                                     0 non-null      float64\n",
      " 35  bathrooms_text                                36818 non-null  object \n",
      " 36  bedrooms                                      32987 non-null  float64\n",
      " 37  beds                                          36312 non-null  float64\n",
      " 38  amenities                                     36923 non-null  object \n",
      " 39  price                                         36923 non-null  object \n",
      " 40  minimum_nights                                36923 non-null  int64  \n",
      " 41  maximum_nights                                36923 non-null  int64  \n",
      " 42  minimum_minimum_nights                        36906 non-null  float64\n",
      " 43  maximum_minimum_nights                        36906 non-null  float64\n",
      " 44  minimum_maximum_nights                        36906 non-null  float64\n",
      " 45  maximum_maximum_nights                        36906 non-null  float64\n",
      " 46  minimum_nights_avg_ntm                        36906 non-null  float64\n",
      " 47  maximum_nights_avg_ntm                        36906 non-null  float64\n",
      " 48  calendar_updated                              0 non-null      float64\n",
      " 49  has_availability                              36923 non-null  object \n",
      " 50  availability_30                               36923 non-null  int64  \n",
      " 51  availability_60                               36923 non-null  int64  \n",
      " 52  availability_90                               36923 non-null  int64  \n",
      " 53  availability_365                              36923 non-null  int64  \n",
      " 54  calendar_last_scraped                         36923 non-null  object \n",
      " 55  number_of_reviews                             36923 non-null  int64  \n",
      " 56  number_of_reviews_ltm                         36923 non-null  int64  \n",
      " 57  number_of_reviews_l30d                        36923 non-null  int64  \n",
      " 58  first_review                                  27627 non-null  object \n",
      " 59  last_review                                   27627 non-null  object \n",
      " 60  review_scores_rating                          27627 non-null  float64\n",
      " 61  review_scores_accuracy                        26998 non-null  float64\n",
      " 62  review_scores_cleanliness                     27009 non-null  float64\n",
      " 63  review_scores_checkin                         26991 non-null  float64\n",
      " 64  review_scores_communication                   27002 non-null  float64\n",
      " 65  review_scores_location                        26987 non-null  float64\n",
      " 66  review_scores_value                           26987 non-null  float64\n",
      " 67  license                                       0 non-null      float64\n",
      " 68  instant_bookable                              36923 non-null  object \n",
      " 69  calculated_host_listings_count                36923 non-null  int64  \n",
      " 70  calculated_host_listings_count_entire_homes   36923 non-null  int64  \n",
      " 71  calculated_host_listings_count_private_rooms  36923 non-null  int64  \n",
      " 72  calculated_host_listings_count_shared_rooms   36923 non-null  int64  \n",
      " 73  reviews_per_month                             27627 non-null  float64\n",
      " 74  Revenue 21                                    35852 non-null  float64\n",
      "dtypes: float64(25), int64(16), object(34)\n",
      "memory usage: 21.1+ MB\n"
     ]
    }
   ],
   "source": [
    "listings_df = pd.read_csv('Data/nyc_listings.csv')\n",
    "listings_df.info()"
   ]
  },
  {
   "cell_type": "code",
   "execution_count": 10,
   "id": "a0e1a3db",
   "metadata": {},
   "outputs": [
    {
     "name": "stderr",
     "output_type": "stream",
     "text": [
      "<ipython-input-10-81d63ba651f4>:2: FutureWarning: The default value of regex will change from True to False in a future version.\n",
      "  listings_df['price'] = listings_df['price'].str.replace(\"[$, ]\", \"\").astype(\"float\")\n"
     ]
    }
   ],
   "source": [
    "# Removing dollar sign from price field\n",
    "listings_df['price'] = listings_df['price'].str.replace(\"[$, ]\", \"\").astype(\"float\")"
   ]
  },
  {
   "cell_type": "code",
   "execution_count": null,
   "id": "425a7a52",
   "metadata": {
    "scrolled": false
   },
   "outputs": [],
   "source": [
    "reviews_df = pd.read_csv('Data/nyc_reviews.csv')\n",
    "\n",
    "# Convert the date to datetime\n",
    "reviews_df['date'] = pd.to_datetime(reviews_df['date'], format='%Y-%m-%d')\n",
    "  \n",
    "# Filter data between two dates\n",
    "reviews_df = reviews_df.loc[(reviews_df['date'] >= '2019-01-01')\n",
    "                     & (reviews_df['date'] < '2021-12-31')]\n",
    "reviews_df.head()"
   ]
  },
  {
   "cell_type": "code",
   "execution_count": 11,
   "id": "b61c8066",
   "metadata": {},
   "outputs": [],
   "source": [
    "# Rename id to listing_id for joining tables\n",
    "listings_df.rename(columns={'id':'listing_id'}, inplace=True)"
   ]
  },
  {
   "cell_type": "code",
   "execution_count": null,
   "id": "a571c8f1",
   "metadata": {},
   "outputs": [],
   "source": [
    "# Calculating revenue based on reviews\n",
    "# Idea from Jingles Airbnb Analysis\n",
    "\n",
    "booking_df = pd.merge(reviews_df, listings_df, on='listing_id')\n",
    "booking_df['calculated_revenue'] = booking_df['price'] * booking_df['minimum_nights']"
   ]
  },
  {
   "cell_type": "code",
   "execution_count": null,
   "id": "2f356769",
   "metadata": {},
   "outputs": [],
   "source": [
    "revenue_listing_df = booking_df[['listing_id','calculated_revenue']].groupby(['listing_id']).sum()"
   ]
  },
  {
   "cell_type": "code",
   "execution_count": null,
   "id": "f65b9b70",
   "metadata": {
    "scrolled": true
   },
   "outputs": [],
   "source": [
    "listings_df = pd.merge(listings_df, revenue_listing_df, on='listing_id', how='left')\n",
    "listings_df.at[listings_df['calculated_revenue'].isnull(), 'calculated_revenue'] = 0"
   ]
  },
  {
   "cell_type": "code",
   "execution_count": null,
   "id": "0a9c3818",
   "metadata": {},
   "outputs": [],
   "source": [
    "listings_df[['listing_id','number_of_reviews','minimum_nights','price','bedrooms','beds','calculated_revenue']].sort_values('calculated_revenue',ascending=False).head(5)\n"
   ]
  },
  {
   "cell_type": "code",
   "execution_count": null,
   "id": "764854b0",
   "metadata": {},
   "outputs": [],
   "source": [
    "pd.set_option('display.max_rows', None)\n",
    "listings_df[['listing_id','price']].groupby(['price']).count().sort_values('price', ascending=False)"
   ]
  },
  {
   "cell_type": "code",
   "execution_count": null,
   "id": "197b3047",
   "metadata": {
    "scrolled": true
   },
   "outputs": [],
   "source": [
    "high_price_df = listings_df[listings_df['price'] >= 7000]\n",
    "\n",
    "high_price_df[['listing_id', 'listing_url', 'accommodates', 'number_of_reviews', 'price', 'calculated_revenue']]"
   ]
  },
  {
   "cell_type": "code",
   "execution_count": null,
   "id": "7d47c825",
   "metadata": {},
   "outputs": [],
   "source": [
    "# Filter out price greater than 10000\n",
    "listings_df = listings_df[listings_df['price'] < 7000]"
   ]
  },
  {
   "cell_type": "code",
   "execution_count": null,
   "id": "0900a491",
   "metadata": {},
   "outputs": [],
   "source": [
    "listings_df[['listing_id','listing_url','number_of_reviews','minimum_nights','price','bedrooms','beds','calculated_revenue']].sort_values('calculated_revenue',ascending=False).head(5)\n"
   ]
  },
  {
   "cell_type": "code",
   "execution_count": null,
   "id": "ea17fea5",
   "metadata": {},
   "outputs": [],
   "source": [
    "listings_df[['listing_id','minimum_nights']].groupby(['minimum_nights']).count().sort_values('minimum_nights', ascending=False)"
   ]
  },
  {
   "cell_type": "code",
   "execution_count": null,
   "id": "159921fe",
   "metadata": {},
   "outputs": [],
   "source": [
    "# Filter out min nights greater than 500\n",
    "listings_df = listings_df[listings_df['minimum_nights'] <= 500]"
   ]
  },
  {
   "cell_type": "code",
   "execution_count": 12,
   "id": "4d13878e",
   "metadata": {},
   "outputs": [],
   "source": [
    "listings_df.drop(['listing_id'], axis = 1, inplace = True)\n",
    "listings_df.drop(['host_id'], axis = 1, inplace = True)\n",
    "listings_df.drop(['listing_url'], axis = 1, inplace = True)\n",
    "listings_df.drop(['scrape_id'], axis = 1, inplace = True)\n",
    "listings_df.drop(['last_scraped'], axis = 1, inplace = True)\n",
    "listings_df.drop(['name'], axis = 1, inplace = True)\n",
    "listings_df.drop(['description'], axis = 1, inplace = True) # don't have the resources/time/knowledge to extract anything from this\n",
    "listings_df.drop(['neighborhood_overview'], axis = 1, inplace = True)\n",
    "listings_df.drop(['picture_url'], axis = 1, inplace = True)\n",
    "listings_df.drop(['host_url'], axis = 1, inplace = True)\n",
    "listings_df.drop(['host_name'], axis = 1, inplace = True)\n",
    "listings_df.drop(['host_since'], axis = 1, inplace = True)\n",
    "listings_df.drop(['host_location'], axis = 1, inplace = True)\n",
    "listings_df.drop(['host_about'], axis = 1, inplace = True)\n",
    "listings_df.drop(['host_response_time'], axis = 1, inplace = True)\n",
    "listings_df.drop(['host_response_rate'], axis = 1, inplace = True)\n",
    "listings_df.drop(['host_acceptance_rate'], axis = 1, inplace = True)\n",
    "listings_df.drop(['host_thumbnail_url'], axis = 1, inplace = True)\n",
    "listings_df.drop(['host_picture_url'], axis = 1, inplace = True)\n",
    "listings_df.drop(['host_neighbourhood'], axis = 1, inplace = True)\n",
    "listings_df.drop(['neighbourhood'], axis = 1, inplace = True)\n",
    "listings_df.drop(['latitude'], axis = 1, inplace = True)\n",
    "listings_df.drop(['longitude'], axis = 1, inplace = True)\n",
    "listings_df.drop(['bathrooms'], axis = 1, inplace = True) # entire column missing\n",
    "listings_df.drop(['minimum_minimum_nights'], axis = 1, inplace = True)\n",
    "listings_df.drop(['maximum_minimum_nights'], axis = 1, inplace = True)\n",
    "listings_df.drop(['minimum_maximum_nights'], axis = 1, inplace = True)\n",
    "listings_df.drop(['maximum_maximum_nights'], axis = 1, inplace = True)\n",
    "listings_df.drop(['calendar_updated'], axis = 1, inplace = True)\n",
    "listings_df.drop(['calendar_last_scraped'], axis = 1, inplace = True)\n",
    "listings_df.drop(['first_review'], axis = 1, inplace = True)\n",
    "listings_df.drop(['last_review'], axis = 1, inplace = True)\n",
    "listings_df.drop(['review_scores_rating'], axis = 1, inplace = True)\n",
    "listings_df.drop(['review_scores_accuracy'], axis = 1, inplace = True)\n",
    "listings_df.drop(['review_scores_cleanliness'], axis = 1, inplace = True)\n",
    "listings_df.drop(['review_scores_checkin'], axis = 1, inplace = True)\n",
    "listings_df.drop(['review_scores_communication'], axis = 1, inplace = True)\n",
    "listings_df.drop(['review_scores_location'], axis = 1, inplace = True)\n",
    "listings_df.drop(['review_scores_value'], axis = 1, inplace = True)\n",
    "listings_df.drop(['reviews_per_month'], axis = 1, inplace = True)\n",
    "listings_df.drop(['license'], axis = 1, inplace = True)\n",
    "\n",
    "# this may be able to be parse in the same way that the amenities column is\n",
    "listings_df.drop(['host_verifications'], axis = 1, inplace = True)\n"
   ]
  },
  {
   "cell_type": "code",
   "execution_count": null,
   "id": "84f711aa",
   "metadata": {},
   "outputs": [],
   "source": [
    "# Parse and count amenities\n",
    "a = listings_df['amenities']\n",
    "\n",
    "counts = dict()\n",
    "for amlist in a:\n",
    "   res = ast.literal_eval(amlist)\n",
    "   for i in res:\n",
    "      counts[i] = counts.get(i, 0) + 1\n",
    "\n",
    "sorted_counts = sorted(counts.items(), key=operator.itemgetter(1), reverse=True)"
   ]
  },
  {
   "cell_type": "code",
   "execution_count": 14,
   "id": "77c6311f",
   "metadata": {},
   "outputs": [],
   "source": [
    "b = pd.DataFrame()\n",
    "b['Wifi'] = 0\n",
    "b['Long term stays allowed'] = 0\n",
    "b['Heating'] = 0\n",
    "b['Kitchen'] = 0\n",
    "b['Essentials'] = 0\n",
    "b['Smoke alarm'] = 0\n",
    "b['Air conditioning'] = 0\n",
    "b['Hangers'] = 0\n",
    "b['Carbon monoxide alarm'] = 0\n",
    "b['Hair dryer'] = 0\n",
    "b['Dedicated workspace'] = 0\n",
    "b['Iron'] = 0\n",
    "b['Shampoo'] = 0\n",
    "b['Hot water'] = 0\n",
    "b['TV'] = 0\n",
    "b['Dishes and silverware'] = 0\n",
    "b['Refrigerator'] = 0\n",
    "b['Cooking basics'] = 0\n",
    "b['Microwave'] = 0\n",
    "b['Fire extinguisher'] = 0\n",
    "b['Washer'] = 0\n",
    "b['Dryer'] = 0\n",
    "b['Stove'] = 0\n",
    "b['Oven'] = 0\n",
    "b['Coffee maker'] = 0\n",
    "b['Free street parking'] = 0\n",
    "b['Bed linens'] = 0\n",
    "b['First aid kit'] = 0\n",
    "b['Extra pillows and blankets'] = 0\n",
    "b['Private entrance'] = 0\n",
    "b['Lock on bedroom door'] = 0\n",
    "b['Elevator'] = 0\n",
    "b['Cable TV'] = 0\n",
    "b['TV with standard cable'] = 0\n",
    "b['Dishwasher'] = 0\n",
    "b['Luggage dropoff allowed'] = 0\n",
    "b['Security cameras on property'] = 0\n",
    "b['Bathtub'] = 0\n",
    "b['Lockbox'] = 0\n",
    "b['Host greets you'] = 0\n",
    "b['Freezer'] = 0\n",
    "b['Shower gel'] = 0\n",
    "b['Gym'] = 0\n",
    "b['Laundromat nearby'] = 0\n",
    "b['Patio or balcony'] = 0\n",
    "b['Cleaning products'] = 0\n",
    "b['Free parking on premises'] = 0\n",
    "b['Backyard'] = 0\n",
    "b['Room-darkening shades'] = 0\n",
    "b['Body soap'] = 0"
   ]
  },
  {
   "cell_type": "code",
   "execution_count": 15,
   "id": "778a184f",
   "metadata": {},
   "outputs": [],
   "source": [
    "i = 0\n",
    "for amlist in listings_df['amenities']:\n",
    "   res = ast.literal_eval(amlist)\n",
    "   if 'Wifi' in res:\n",
    "      b.at[i, 'Wifi'] = 1\n",
    "   if 'Long term stays allowed' in res:\n",
    "      b.at[i, 'Long term stays allowed'] = 1\n",
    "   if 'Heating' in res:\n",
    "      b.at[i, 'Heating'] = 1\n",
    "   if 'Kitchen' in res:\n",
    "      b.at[i, 'Kitchen'] = 1\n",
    "   if 'Essentials' in res:\n",
    "      b.at[i, 'Essentials'] = 1\n",
    "   if 'Smoke alarm' in res:\n",
    "      b.at[i, 'Smoke alarm'] = 1\n",
    "   if 'Air conditioning' in res:\n",
    "      b.at[i, 'Air conditioning'] = 1\n",
    "   if 'Hangers' in res:\n",
    "      b.at[i, 'Hangers'] = 1\n",
    "   if 'Carbon monoxide alarm' in res:\n",
    "      b.at[i, 'Carbon monoxide alarm'] = 1\n",
    "   if 'Hair dryer' in res:\n",
    "      b.at[i, 'Hair dryer'] = 1\n",
    "   if 'Dedicated workspace' in res:\n",
    "      b.at[i, 'Dedicated workspace'] = 1\n",
    "   if 'Iron' in res:\n",
    "      b.at[i, 'Iron'] = 1\n",
    "   if 'Shampoo' in res:\n",
    "      b.at[i, 'Shampoo'] = 1\n",
    "   if 'Hot water' in res:\n",
    "      b.at[i, 'Hot water'] = 1\n",
    "   if 'TV' in res:\n",
    "      b.at[i, 'TV'] = 1\n",
    "   if 'Dishes and silverware' in res:\n",
    "      b.at[i, 'Dishes and silverware'] = 1\n",
    "   if 'Refrigerator' in res:\n",
    "      b.at[i, 'Refrigerator'] = 1\n",
    "   if 'Cooking basics' in res:\n",
    "      b.at[i, 'Cooking basics'] = 1\n",
    "   if 'Microwave' in res:\n",
    "      b.at[i, 'Microwave'] = 1\n",
    "   if 'Fire extinguisher' in res:\n",
    "      b.at[i, 'Fire extinguisher'] = 1\n",
    "   if 'Washer' in res:\n",
    "      b.at[i, 'Washer'] = 1\n",
    "   if 'Dryer' in res:\n",
    "      b.at[i, 'Dryer'] = 1\n",
    "   if 'Stove' in res:\n",
    "      b.at[i, 'Stove'] = 1\n",
    "   if 'Oven' in res:\n",
    "      b.at[i, 'Oven'] = 1\n",
    "   if 'Coffee maker' in res:\n",
    "      b.at[i, 'Coffee maker'] = 1\n",
    "   if 'Free street parking' in res:\n",
    "      b.at[i, 'Free street parking'] = 1\n",
    "   if 'Bed linens' in res:\n",
    "      b.at[i, 'Bed linens'] = 1\n",
    "   if 'First aid kit' in res:\n",
    "      b.at[i, 'First aid kit'] = 1\n",
    "   if 'Extra pillows and blankets' in res:\n",
    "      b.at[i, 'Extra pillows and blankets'] = 1\n",
    "   if 'Private entrance' in res:\n",
    "      b.at[i, 'Private entrance'] = 1\n",
    "   if 'Lock on bedroom door' in res:\n",
    "      b.at[i, 'Lock on bedroom door'] = 1\n",
    "   if 'Elevator' in res:\n",
    "      b.at[i, 'Elevator'] = 1\n",
    "   if 'Cable TV' in res:\n",
    "      b.at[i, 'Cable TV'] = 1\n",
    "   if 'TV with standard cable' in res:\n",
    "      b.at[i, 'TV with standard cable'] = 1\n",
    "   if 'Dishwasher' in res:\n",
    "      b.at[i, 'Dishwasher'] = 1\n",
    "   if 'Luggage dropoff allowed' in res:\n",
    "      b.at[i, 'Luggage dropoff allowed'] = 1\n",
    "   if 'Security cameras on property' in res:\n",
    "      b.at[i, 'Security cameras on property'] = 1\n",
    "   if 'Bathtub' in res:\n",
    "      b.at[i, 'Bathtub'] = 1\n",
    "   if 'Lockbox' in res:\n",
    "      b.at[i, 'Lockbox'] = 1\n",
    "   if 'Host greets you' in res:\n",
    "      b.at[i, 'Host greets you'] = 1\n",
    "   if 'Freezer' in res:\n",
    "      b.at[i, 'Freezer'] = 1\n",
    "   if 'Shower gel' in res:\n",
    "      b.at[i, 'Shower gel'] = 1\n",
    "   if 'Gym' in res:\n",
    "      b.at[i, 'Gym'] = 1\n",
    "   if 'Laundromat nearby' in res:\n",
    "      b.at[i, 'Laundromat nearby'] = 1\n",
    "   if 'Patio or balcony' in res:\n",
    "      b.at[i, 'Patio or balcony'] = 1\n",
    "   if 'Cleaning products' in res:\n",
    "      b.at[i, 'Cleaning products'] = 1\n",
    "   if 'Free parking on premises' in res:\n",
    "      b.at[i, 'Free parking on premises'] = 1\n",
    "   if 'Backyard' in res:\n",
    "      b.at[i, 'Backyard'] = 1\n",
    "   if 'Room-darkening shades' in res:\n",
    "      b.at[i, 'Room-darkening shades'] = 1\n",
    "   if 'Body soap' in res:\n",
    "      b.at[i, 'Body soap'] = 1\n",
    "   i += 1\n",
    "\n",
    "b = b.fillna(0)"
   ]
  },
  {
   "cell_type": "code",
   "execution_count": null,
   "id": "c09116c9",
   "metadata": {},
   "outputs": [],
   "source": [
    "# find out how korosh is parsing through amenities\n",
    "listings_df.drop(['amenities'], axis = 1, inplace = True)"
   ]
  },
  {
   "cell_type": "code",
   "execution_count": null,
   "id": "2ead9e14",
   "metadata": {},
   "outputs": [],
   "source": [
    "listings_df['has_availability'] = listings_df['has_availability'].map({'t' : 1, 'f' : 0})\n",
    "listings_df['instant_bookable'] = listings_df['instant_bookable'].map({'t' : 1, 'f' : 0})\n",
    "listings_df['host_is_superhost'] = listings_df['host_is_superhost'].map({'t' : 1, 'f' : 0})\n",
    "\n",
    "listings_df['host_has_profile_pic'] = listings_df['host_has_profile_pic'].map({'t' : 1, 'f' : 0})\n",
    "listings_df['host_identity_verified'] = listings_df['host_identity_verified'].map({'t' : 1, 'f' : 0})\n",
    "\n",
    "listings_df['bathrooms_text'] = pd.Categorical(listings_df['bathrooms_text'])\n",
    "listings_df['bathrooms_text'] = listings_df['bathrooms_text'].cat.codes\n",
    "\n",
    "listings_df['neighbourhood_cleansed'] = pd.Categorical(listings_df['neighbourhood_cleansed'])\n",
    "listings_df['neighbourhood_cleansed'] = listings_df['neighbourhood_cleansed'].cat.codes\n",
    "\n",
    "listings_df['neighbourhood_group_cleansed'] = pd.Categorical(listings_df['neighbourhood_group_cleansed'])\n",
    "listings_df['neighbourhood_group_cleansed'] = listings_df['neighbourhood_group_cleansed'].cat.codes\n",
    "\n",
    "listings_df['property_type'] = pd.Categorical(listings_df['property_type'])\n",
    "listings_df['property_type'] = listings_df['property_type'].cat.codes\n",
    "\n",
    "listings_df['room_type'] = pd.Categorical(listings_df['room_type'])\n",
    "listings_df['room_type'] = listings_df['room_type'].cat.codes"
   ]
  },
  {
   "cell_type": "code",
   "execution_count": null,
   "id": "54f035d4",
   "metadata": {},
   "outputs": [],
   "source": [
    "# trying to fill null/na values\n",
    "# interpolate vs ffill\n",
    "listings_df['minimum_nights_avg_ntm'].fillna(method = \"ffill\", inplace = True)\n",
    "listings_df['maximum_nights_avg_ntm'].fillna(method = \"ffill\", inplace = True)\n",
    "\n",
    "# assuming one bed per bedroom to fill in missing stuff in bedrooms column\n",
    "listings_df['bedrooms'].fillna(listings_df['beds'], inplace=True)\n",
    "\n",
    "#dropping any other rows with missing values\n",
    "listings_df.dropna(inplace = True)"
   ]
  },
  {
   "cell_type": "code",
   "execution_count": null,
   "id": "f4bdf791",
   "metadata": {},
   "outputs": [],
   "source": [
    "listings_df.corr()\n",
    "plt.rcParams['figure.figsize'] = [25, 30]\n",
    "sns.heatmap(listings_df.corr(), vmin=listings_df.corr().values.min(), vmax=1, cmap=\"YlGnBu\", square=True, \n",
    "        linewidths=0.1, annot=True, annot_kws={\"size\":8})  "
   ]
  },
  {
   "cell_type": "code",
   "execution_count": null,
   "id": "3f40933d",
   "metadata": {},
   "outputs": [],
   "source": [
    "X = listings_df.iloc[:,:-1]\n",
    "y = listings_df['calculated_revenue']"
   ]
  },
  {
   "cell_type": "code",
   "execution_count": null,
   "id": "1a6f9297",
   "metadata": {},
   "outputs": [],
   "source": [
    "# X = feature_selection.SelectKBest(k=10).fit_transform(X,y)\n",
    "# X.shape"
   ]
  },
  {
   "cell_type": "code",
   "execution_count": null,
   "id": "9f1d231c",
   "metadata": {},
   "outputs": [],
   "source": [
    "# Split data into 90/10 Train/Test ratio\n",
    "print(\"---------- Splitting Data 9:1 Train:Test-----------------\")\n",
    "X_train, X_test, y_train, y_test = model_selection.train_test_split(X, y, test_size=0.1)\n",
    "\n",
    "# Specifying the model to use\n",
    "xg = xgboost.XGBRegressor(eval_metric='rmse')\n",
    "\n",
    "\n",
    "# Model fitting i.e., creating the model\n",
    "print(\"------------------- Fitting Model ----------------------\")\n",
    "xg.fit(X_train, y_train)"
   ]
  },
  {
   "cell_type": "code",
   "execution_count": null,
   "id": "d838b898",
   "metadata": {},
   "outputs": [],
   "source": [
    "from sklearn.model_selection import cross_val_score"
   ]
  },
  {
   "cell_type": "code",
   "execution_count": null,
   "id": "d4bf427e",
   "metadata": {},
   "outputs": [],
   "source": [
    "# Make predictions\n",
    "print(\"------------------ Making Predictions ------------------\")\n",
    "expected = y_test\n",
    "\n",
    "xgpredicted = xg.predict(X_test)"
   ]
  },
  {
   "cell_type": "code",
   "execution_count": null,
   "id": "4311e388",
   "metadata": {},
   "outputs": [],
   "source": [
    "# Print performance metrics\n",
    "print(\"Model: XGBoost\")\n",
    "print(xg)\n",
    "print('MAE: ' + str(metrics.mean_absolute_error(y_test, xgpredicted)))\n",
    "print('RMSE: ' + str(math.sqrt(metrics.mean_squared_error(y_test, xgpredicted))))\n",
    "print('\\n')"
   ]
  },
  {
   "cell_type": "code",
   "execution_count": null,
   "id": "4a1870eb",
   "metadata": {},
   "outputs": [],
   "source": [
    "xg_reg_mae = cross_val_score(xg, X, y, cv=10,scoring='neg_mean_absolute_error')\n",
    "xg_reg_rmse = cross_val_score(xg, X, y, cv=10,scoring='neg_root_mean_squared_error')\n",
    "\n",
    "print(\"XGBoost Regressor\")\n",
    "print(\"Mean Absolute Error = {}\".format(np.mean(xg_reg_mae)*-1))\n",
    "print(\"Root Mean Squared Error = {}\".format(np.mean(xg_reg_rmse)*-1))"
   ]
  },
  {
   "cell_type": "code",
   "execution_count": null,
   "id": "d6bcb2a7",
   "metadata": {},
   "outputs": [],
   "source": []
  }
 ],
 "metadata": {
  "kernelspec": {
   "display_name": "Python 3",
   "language": "python",
   "name": "python3"
  },
  "language_info": {
   "codemirror_mode": {
    "name": "ipython",
    "version": 3
   },
   "file_extension": ".py",
   "mimetype": "text/x-python",
   "name": "python",
   "nbconvert_exporter": "python",
   "pygments_lexer": "ipython3",
   "version": "3.8.8"
  }
 },
 "nbformat": 4,
 "nbformat_minor": 5
}
