{
 "cells": [
  {
   "cell_type": "code",
   "execution_count": 1,
   "id": "4cc27294",
   "metadata": {},
   "outputs": [],
   "source": [
    "import pandas as pd\n",
    "import matplotlib.pyplot as plt\n",
    "import seaborn as sn"
   ]
  },
  {
   "cell_type": "code",
   "execution_count": 2,
   "id": "55ecfa0e",
   "metadata": {},
   "outputs": [],
   "source": [
    "df = pd.read_csv('nyc_listings.csv')"
   ]
  },
  {
   "cell_type": "code",
   "execution_count": 3,
   "id": "4bb6ff38",
   "metadata": {},
   "outputs": [
    {
     "data": {
      "text/plain": [
       "listing_id                                        int64\n",
       "listing_url                                      object\n",
       "scrape_id                                       float64\n",
       "last_scraped                                     object\n",
       "name                                             object\n",
       "                                                 ...   \n",
       "calculated_host_listings_count                    int64\n",
       "calculated_host_listings_count_entire_homes       int64\n",
       "calculated_host_listings_count_private_rooms      int64\n",
       "calculated_host_listings_count_shared_rooms       int64\n",
       "reviews_per_month                               float64\n",
       "Length: 74, dtype: object"
      ]
     },
     "execution_count": 3,
     "metadata": {},
     "output_type": "execute_result"
    }
   ],
   "source": [
    "df.dtypes"
   ]
  },
  {
   "cell_type": "code",
   "execution_count": 4,
   "id": "95fba70c",
   "metadata": {},
   "outputs": [
    {
     "data": {
      "text/plain": [
       "listing_id                                         0\n",
       "listing_url                                        0\n",
       "scrape_id                                          0\n",
       "last_scraped                                       0\n",
       "name                                              13\n",
       "                                                ... \n",
       "calculated_host_listings_count                     0\n",
       "calculated_host_listings_count_entire_homes        0\n",
       "calculated_host_listings_count_private_rooms       0\n",
       "calculated_host_listings_count_shared_rooms        0\n",
       "reviews_per_month                               9296\n",
       "Length: 74, dtype: int64"
      ]
     },
     "execution_count": 4,
     "metadata": {},
     "output_type": "execute_result"
    }
   ],
   "source": [
    "df.isnull().sum()\n",
    "# there is missing data! what do we do?!?\n",
    "# there is enought missing rows from host_response_time, host_response_rate, and host_acceptance_rate \n",
    "# (greater than 15,000 rows) to warrant getting rid of these columns\n",
    "\n",
    "# there is enough missing rows from reviews_scores_rating, review_scores_accuracy, \n",
    "# review_scores_cleanliness, review_scores_checkin, review_scores_communication, review_scores_location,\n",
    "# review_scores_value, and reviews_per_month (greater than 9,000 rows) to warrant getting rid of these columns"
   ]
  },
  {
   "cell_type": "code",
   "execution_count": 5,
   "id": "ba532152",
   "metadata": {},
   "outputs": [],
   "source": [
    "df.drop(['listing_url'], axis = 1, inplace = True)\n",
    "df.drop(['scrape_id'], axis = 1, inplace = True)\n",
    "df.drop(['last_scraped'], axis = 1, inplace = True)\n",
    "df.drop(['name'], axis = 1, inplace = True)\n",
    "df.drop(['description'], axis = 1, inplace = True) # don't have the resources/time/knowledge to extract anything from this\n",
    "df.drop(['neighborhood_overview'], axis = 1, inplace = True)\n",
    "df.drop(['picture_url'], axis = 1, inplace = True)\n",
    "df.drop(['host_url'], axis = 1, inplace = True)\n",
    "df.drop(['host_name'], axis = 1, inplace = True)\n",
    "df.drop(['host_since'], axis = 1, inplace = True)\n",
    "df.drop(['host_location'], axis = 1, inplace = True)\n",
    "df.drop(['host_about'], axis = 1, inplace = True)\n",
    "df.drop(['host_response_time'], axis = 1, inplace = True)\n",
    "df.drop(['host_response_rate'], axis = 1, inplace = True)\n",
    "df.drop(['host_acceptance_rate'], axis = 1, inplace = True)\n",
    "df.drop(['host_thumbnail_url'], axis = 1, inplace = True)\n",
    "df.drop(['host_picture_url'], axis = 1, inplace = True)\n",
    "df.drop(['host_neighbourhood'], axis = 1, inplace = True)\n",
    "df.drop(['neighbourhood'], axis = 1, inplace = True)\n",
    "df.drop(['latitude'], axis = 1, inplace = True)\n",
    "df.drop(['longitude'], axis = 1, inplace = True)\n",
    "df.drop(['bathrooms'], axis = 1, inplace = True) # entire column missing\n",
    "df.drop(['minimum_minimum_nights'], axis = 1, inplace = True)\n",
    "df.drop(['maximum_minimum_nights'], axis = 1, inplace = True)\n",
    "df.drop(['minimum_maximum_nights'], axis = 1, inplace = True)\n",
    "df.drop(['maximum_maximum_nights'], axis = 1, inplace = True)\n",
    "df.drop(['calendar_updated'], axis = 1, inplace = True)\n",
    "df.drop(['calendar_last_scraped'], axis = 1, inplace = True)\n",
    "df.drop(['first_review'], axis = 1, inplace = True)\n",
    "df.drop(['last_review'], axis = 1, inplace = True)\n",
    "df.drop(['review_scores_rating'], axis = 1, inplace = True)\n",
    "df.drop(['review_scores_accuracy'], axis = 1, inplace = True)\n",
    "df.drop(['review_scores_cleanliness'], axis = 1, inplace = True)\n",
    "df.drop(['review_scores_checkin'], axis = 1, inplace = True)\n",
    "df.drop(['review_scores_communication'], axis = 1, inplace = True)\n",
    "df.drop(['review_scores_location'], axis = 1, inplace = True)\n",
    "df.drop(['review_scores_value'], axis = 1, inplace = True)\n",
    "df.drop(['reviews_per_month'], axis = 1, inplace = True)\n",
    "df.drop(['license'], axis = 1, inplace = True)\n",
    "\n",
    "# this may be able to be parse in the same way that the amenities column is\n",
    "df.drop(['host_verifications'], axis = 1, inplace = True)\n",
    "\n",
    "# find out how korosh is parsing through amenities\n",
    "df.drop(['amenities'], axis = 1, inplace = True)"
   ]
  },
  {
   "cell_type": "code",
   "execution_count": 6,
   "id": "25871a72",
   "metadata": {},
   "outputs": [
    {
     "data": {
      "text/plain": [
       "listing_id                                        int64\n",
       "host_id                                           int64\n",
       "host_is_superhost                                object\n",
       "host_listings_count                             float64\n",
       "host_total_listings_count                       float64\n",
       "host_has_profile_pic                             object\n",
       "host_identity_verified                           object\n",
       "neighbourhood_cleansed                           object\n",
       "neighbourhood_group_cleansed                     object\n",
       "property_type                                    object\n",
       "room_type                                        object\n",
       "accommodates                                      int64\n",
       "bathrooms_text                                   object\n",
       "bedrooms                                        float64\n",
       "beds                                            float64\n",
       "price                                            object\n",
       "minimum_nights                                    int64\n",
       "maximum_nights                                    int64\n",
       "minimum_nights_avg_ntm                          float64\n",
       "maximum_nights_avg_ntm                          float64\n",
       "has_availability                                 object\n",
       "availability_30                                   int64\n",
       "availability_60                                   int64\n",
       "availability_90                                   int64\n",
       "availability_365                                  int64\n",
       "number_of_reviews                                 int64\n",
       "number_of_reviews_ltm                             int64\n",
       "number_of_reviews_l30d                            int64\n",
       "instant_bookable                                 object\n",
       "calculated_host_listings_count                    int64\n",
       "calculated_host_listings_count_entire_homes       int64\n",
       "calculated_host_listings_count_private_rooms      int64\n",
       "calculated_host_listings_count_shared_rooms       int64\n",
       "dtype: object"
      ]
     },
     "execution_count": 6,
     "metadata": {},
     "output_type": "execute_result"
    }
   ],
   "source": [
    "df.dtypes\n",
    "# do we care about id, name, host_id, host_name (identifiers)?"
   ]
  },
  {
   "cell_type": "code",
   "execution_count": 7,
   "id": "5b28ab5e",
   "metadata": {},
   "outputs": [
    {
     "data": {
      "text/plain": [
       "listing_id                                         0\n",
       "host_id                                            0\n",
       "host_is_superhost                                111\n",
       "host_listings_count                              111\n",
       "host_total_listings_count                        111\n",
       "host_has_profile_pic                             111\n",
       "host_identity_verified                           111\n",
       "neighbourhood_cleansed                             0\n",
       "neighbourhood_group_cleansed                       0\n",
       "property_type                                      0\n",
       "room_type                                          0\n",
       "accommodates                                       0\n",
       "bathrooms_text                                   105\n",
       "bedrooms                                        3936\n",
       "beds                                             611\n",
       "price                                              0\n",
       "minimum_nights                                     0\n",
       "maximum_nights                                     0\n",
       "minimum_nights_avg_ntm                            17\n",
       "maximum_nights_avg_ntm                            17\n",
       "has_availability                                   0\n",
       "availability_30                                    0\n",
       "availability_60                                    0\n",
       "availability_90                                    0\n",
       "availability_365                                   0\n",
       "number_of_reviews                                  0\n",
       "number_of_reviews_ltm                              0\n",
       "number_of_reviews_l30d                             0\n",
       "instant_bookable                                   0\n",
       "calculated_host_listings_count                     0\n",
       "calculated_host_listings_count_entire_homes        0\n",
       "calculated_host_listings_count_private_rooms       0\n",
       "calculated_host_listings_count_shared_rooms        0\n",
       "dtype: int64"
      ]
     },
     "execution_count": 7,
     "metadata": {},
     "output_type": "execute_result"
    }
   ],
   "source": [
    "df.isnull().sum()"
   ]
  },
  {
   "cell_type": "code",
   "execution_count": 8,
   "id": "6f672484",
   "metadata": {
    "scrolled": false
   },
   "outputs": [],
   "source": [
    "df['has_availability'] = df['has_availability'].map({'t' : 1, 'f' : 0})\n",
    "df['instant_bookable'] = df['instant_bookable'].map({'t' : 1, 'f' : 0})\n",
    "df['host_is_superhost'] = df['host_is_superhost'].map({'t' : 1, 'f' : 0})\n",
    "\n",
    "df['price']=df['price'].str.replace(',','')\n",
    "df['price'] = pd.to_numeric(df['price'])\n",
    "\n",
    "df['host_has_profile_pic'] = df['host_has_profile_pic'].map({'t' : 1, 'f' : 0})\n",
    "df['host_identity_verified'] = df['host_identity_verified'].map({'t' : 1, 'f' : 0})\n",
    "\n",
    "df['bathrooms_text'] = pd.Categorical(df['bathrooms_text'])\n",
    "df['bathrooms_text'] = df['bathrooms_text'].cat.codes\n",
    "\n",
    "df['neighbourhood_cleansed'] = pd.Categorical(df['neighbourhood_cleansed'])\n",
    "df['neighbourhood_cleansed'] = df['neighbourhood_cleansed'].cat.codes\n",
    "\n",
    "df['neighbourhood_group_cleansed'] = pd.Categorical(df['neighbourhood_group_cleansed'])\n",
    "df['neighbourhood_group_cleansed'] = df['neighbourhood_group_cleansed'].cat.codes\n",
    "\n",
    "df['property_type'] = pd.Categorical(df['property_type'])\n",
    "df['property_type'] = df['property_type'].cat.codes\n",
    "\n",
    "df['room_type'] = pd.Categorical(df['room_type'])\n",
    "df['room_type'] = df['room_type'].cat.codes"
   ]
  },
  {
   "cell_type": "code",
   "execution_count": 9,
   "id": "a4efff71",
   "metadata": {
    "scrolled": true
   },
   "outputs": [
    {
     "data": {
      "text/plain": [
       "listing_id                                        int64\n",
       "host_id                                           int64\n",
       "host_is_superhost                               float64\n",
       "host_listings_count                             float64\n",
       "host_total_listings_count                       float64\n",
       "host_has_profile_pic                            float64\n",
       "host_identity_verified                          float64\n",
       "neighbourhood_cleansed                            int16\n",
       "neighbourhood_group_cleansed                       int8\n",
       "property_type                                      int8\n",
       "room_type                                          int8\n",
       "accommodates                                      int64\n",
       "bathrooms_text                                     int8\n",
       "bedrooms                                        float64\n",
       "beds                                            float64\n",
       "price                                           float64\n",
       "minimum_nights                                    int64\n",
       "maximum_nights                                    int64\n",
       "minimum_nights_avg_ntm                          float64\n",
       "maximum_nights_avg_ntm                          float64\n",
       "has_availability                                  int64\n",
       "availability_30                                   int64\n",
       "availability_60                                   int64\n",
       "availability_90                                   int64\n",
       "availability_365                                  int64\n",
       "number_of_reviews                                 int64\n",
       "number_of_reviews_ltm                             int64\n",
       "number_of_reviews_l30d                            int64\n",
       "instant_bookable                                  int64\n",
       "calculated_host_listings_count                    int64\n",
       "calculated_host_listings_count_entire_homes       int64\n",
       "calculated_host_listings_count_private_rooms      int64\n",
       "calculated_host_listings_count_shared_rooms       int64\n",
       "dtype: object"
      ]
     },
     "execution_count": 9,
     "metadata": {},
     "output_type": "execute_result"
    }
   ],
   "source": [
    "df.dtypes"
   ]
  },
  {
   "cell_type": "code",
   "execution_count": 11,
   "id": "9928619e",
   "metadata": {},
   "outputs": [],
   "source": [
    "df['minimum_nights_avg_ntm'] = df['minimum_nights_avg_ntm'].fillna(method = \"ffill\")\n",
    "df['maximum_nights_avg_ntm'] = df['maximum_nights_avg_ntm'].fillna(method = \"ffill\")"
   ]
  },
  {
   "cell_type": "code",
   "execution_count": 12,
   "id": "2afc5c8f",
   "metadata": {},
   "outputs": [
    {
     "data": {
      "text/plain": [
       "listing_id                                         0\n",
       "host_id                                            0\n",
       "host_is_superhost                                111\n",
       "host_listings_count                              111\n",
       "host_total_listings_count                        111\n",
       "host_has_profile_pic                             111\n",
       "host_identity_verified                           111\n",
       "neighbourhood_cleansed                             0\n",
       "neighbourhood_group_cleansed                       0\n",
       "property_type                                      0\n",
       "room_type                                          0\n",
       "accommodates                                       0\n",
       "bathrooms_text                                     0\n",
       "bedrooms                                        3936\n",
       "beds                                             611\n",
       "price                                              0\n",
       "minimum_nights                                     0\n",
       "maximum_nights                                     0\n",
       "minimum_nights_avg_ntm                             0\n",
       "maximum_nights_avg_ntm                             0\n",
       "has_availability                                   0\n",
       "availability_30                                    0\n",
       "availability_60                                    0\n",
       "availability_90                                    0\n",
       "availability_365                                   0\n",
       "number_of_reviews                                  0\n",
       "number_of_reviews_ltm                              0\n",
       "number_of_reviews_l30d                             0\n",
       "instant_bookable                                   0\n",
       "calculated_host_listings_count                     0\n",
       "calculated_host_listings_count_entire_homes        0\n",
       "calculated_host_listings_count_private_rooms       0\n",
       "calculated_host_listings_count_shared_rooms        0\n",
       "dtype: int64"
      ]
     },
     "execution_count": 12,
     "metadata": {},
     "output_type": "execute_result"
    }
   ],
   "source": [
    "df.isnull().sum()"
   ]
  },
  {
   "cell_type": "code",
   "execution_count": null,
   "id": "33ab6540",
   "metadata": {},
   "outputs": [],
   "source": [
    "df.corr()\n",
    "plt.rcParams['figure.figsize'] = [25, 30]\n",
    "sn.heatmap(df.corr(), vmin=df.corr().values.min(), vmax=1, cmap=\"YlGnBu\", square=True, \n",
    "        linewidths=0.1, annot=True, annot_kws={\"size\":8})  "
   ]
  },
  {
   "cell_type": "code",
   "execution_count": null,
   "id": "31101912",
   "metadata": {},
   "outputs": [],
   "source": []
  }
 ],
 "metadata": {
  "kernelspec": {
   "display_name": "Python 3",
   "language": "python",
   "name": "python3"
  },
  "language_info": {
   "codemirror_mode": {
    "name": "ipython",
    "version": 3
   },
   "file_extension": ".py",
   "mimetype": "text/x-python",
   "name": "python",
   "nbconvert_exporter": "python",
   "pygments_lexer": "ipython3",
   "version": "3.8.8"
  }
 },
 "nbformat": 4,
 "nbformat_minor": 5
}
