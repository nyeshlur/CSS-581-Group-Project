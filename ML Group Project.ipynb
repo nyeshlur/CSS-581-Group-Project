{
 "cells": [
  {
   "cell_type": "code",
   "execution_count": 14,
   "id": "4cc27294",
   "metadata": {},
   "outputs": [],
   "source": [
    "import pandas as pd\n",
    "import matplotlib.pyplot as plt"
   ]
  },
  {
   "cell_type": "code",
   "execution_count": 15,
   "id": "55ecfa0e",
   "metadata": {},
   "outputs": [],
   "source": [
    "df = pd.read_csv('listings summary.csv')"
   ]
  },
  {
   "cell_type": "code",
   "execution_count": 16,
   "id": "25871a72",
   "metadata": {},
   "outputs": [
    {
     "data": {
      "text/plain": [
       "id                                  int64\n",
       "name                               object\n",
       "host_id                             int64\n",
       "host_name                          object\n",
       "neighbourhood_group                object\n",
       "neighbourhood                      object\n",
       "latitude                          float64\n",
       "longitude                         float64\n",
       "room_type                          object\n",
       "price                               int64\n",
       "minimum_nights                      int64\n",
       "number_of_reviews                   int64\n",
       "last_review                        object\n",
       "reviews_per_month                 float64\n",
       "calculated_host_listings_count      int64\n",
       "availability_365                    int64\n",
       "number_of_reviews_ltm               int64\n",
       "license                            object\n",
       "dtype: object"
      ]
     },
     "execution_count": 16,
     "metadata": {},
     "output_type": "execute_result"
    }
   ],
   "source": [
    "df.dtypes\n",
    "# do we care about id, name, host_id, host_name (identifiers)?"
   ]
  },
  {
   "cell_type": "code",
   "execution_count": 17,
   "id": "5b28ab5e",
   "metadata": {},
   "outputs": [
    {
     "data": {
      "text/plain": [
       "id                                   0\n",
       "name                                 0\n",
       "host_id                              0\n",
       "host_name                            0\n",
       "neighbourhood_group                  0\n",
       "neighbourhood                        0\n",
       "latitude                             0\n",
       "longitude                            0\n",
       "room_type                            0\n",
       "price                                0\n",
       "minimum_nights                       0\n",
       "number_of_reviews                    0\n",
       "last_review                        652\n",
       "reviews_per_month                  652\n",
       "calculated_host_listings_count       0\n",
       "availability_365                     0\n",
       "number_of_reviews_ltm                0\n",
       "license                           1053\n",
       "dtype: int64"
      ]
     },
     "execution_count": 17,
     "metadata": {},
     "output_type": "execute_result"
    }
   ],
   "source": [
    "df.isnull().sum()\n",
    "# there is missing data! what do we do?!?"
   ]
  },
  {
   "cell_type": "code",
   "execution_count": 18,
   "id": "6f672484",
   "metadata": {},
   "outputs": [
    {
     "data": {
      "text/plain": [
       "array(['Entire home/apt', 'Private room', 'Shared room', 'Hotel room'],\n",
       "      dtype=object)"
      ]
     },
     "execution_count": 18,
     "metadata": {},
     "output_type": "execute_result"
    }
   ],
   "source": [
    "df['room_type'].unique()"
   ]
  },
  {
   "cell_type": "code",
   "execution_count": 19,
   "id": "a4efff71",
   "metadata": {},
   "outputs": [
    {
     "data": {
      "text/plain": [
       "array(['STR-OPLI-19-002837', 'str-opli-19-002622', 'STR-OPLI-19-003039',\n",
       "       ..., 'STR-OPLI-20-000869', 'STR-OPLI-21-000608',\n",
       "       'STR-OPLI-19-002856'], dtype=object)"
      ]
     },
     "execution_count": 19,
     "metadata": {},
     "output_type": "execute_result"
    }
   ],
   "source": [
    "df['license'].unique()"
   ]
  },
  {
   "cell_type": "code",
   "execution_count": 20,
   "id": "d9801ca2",
   "metadata": {},
   "outputs": [],
   "source": [
    "df['neighbourhood_group'] = pd.Categorical(df['neighbourhood_group'])\n",
    "df['neighbourhood_group_code'] = df['neighbourhood_group'].cat.codes"
   ]
  },
  {
   "cell_type": "code",
   "execution_count": 21,
   "id": "f50b8a49",
   "metadata": {},
   "outputs": [
    {
     "data": {
      "text/plain": [
       "array([ 4, 11, 16,  5,  0,  1,  3,  2, 12,  6,  9,  8, 13, 15, 10, 14,  7],\n",
       "      dtype=int8)"
      ]
     },
     "execution_count": 21,
     "metadata": {},
     "output_type": "execute_result"
    }
   ],
   "source": [
    "df['neighbourhood_group_code'].unique()"
   ]
  },
  {
   "cell_type": "code",
   "execution_count": 26,
   "id": "04e7d769",
   "metadata": {},
   "outputs": [
    {
     "data": {
      "text/plain": [
       "Text(0, 0.5, 'Counts')"
      ]
     },
     "execution_count": 26,
     "metadata": {},
     "output_type": "execute_result"
    },
    {
     "data": {
      "image/png": "[encoded data removed]",
      "text/plain": [
       "<Figure size 432x288 with 1 Axes>"
      ]
     },
     "metadata": {
      "needs_background": "light"
     },
     "output_type": "display_data"
    }
   ],
   "source": [
    "df.hist(column='neighbourhood_group_code', bins = 20)\n",
    "plt.title('Neighbourhood Group Histogram')\n",
    "plt.xlabel('Neighbourhood Group Codes')\n",
    "plt.ylabel('Counts')"
   ]
  },
  {
   "cell_type": "code",
   "execution_count": 27,
   "id": "6bfb4336",
   "metadata": {},
   "outputs": [],
   "source": [
    "df['neighbourhood'] = pd.Categorical(df['neighbourhood'])\n",
    "df['neighbourhood_code'] = df['neighbourhood'].cat.codes"
   ]
  },
  {
   "cell_type": "code",
   "execution_count": 28,
   "id": "4f22cc2d",
   "metadata": {},
   "outputs": [
    {
     "data": {
      "text/plain": [
       "array([41, 80, 24, 18, 29, 85, 39, 46, 17, 21,  1, 25, 28, 61, 38, 57, 14,\n",
       "        4, 36, 50, 55, 82, 20,  9,  2, 34, 52, 26, 11, 13, 49, 42, 23, 12,\n",
       "       64, 77, 71,  3,  8,  0, 43, 16, 60, 30, 83, 27, 40, 19, 84, 44, 47,\n",
       "       37, 76, 51,  6, 10, 69,  5, 65,  7, 33, 79, 75, 54, 58, 87, 35, 86,\n",
       "       62, 68, 78, 66, 22, 15, 74, 56, 81, 53, 59, 48, 45, 63, 70, 32, 73,\n",
       "       72, 67, 31], dtype=int8)"
      ]
     },
     "execution_count": 28,
     "metadata": {},
     "output_type": "execute_result"
    }
   ],
   "source": [
    "df['neighbourhood_code'].unique()"
   ]
  },
  {
   "cell_type": "code",
   "execution_count": 29,
   "id": "56f8faa4",
   "metadata": {},
   "outputs": [
    {
     "data": {
      "text/plain": [
       "Text(0, 0.5, 'Counts')"
      ]
     },
     "execution_count": 29,
     "metadata": {},
     "output_type": "execute_result"
    },
    {
     "data": {
      "image/png": "[encoded data removed]",
      "text/plain": [
       "<Figure size 432x288 with 1 Axes>"
      ]
     },
     "metadata": {
      "needs_background": "light"
     },
     "output_type": "display_data"
    }
   ],
   "source": [
    "df.hist(column='neighbourhood_code', bins = 100)\n",
    "plt.title('Neighbourhood Histogram')\n",
    "plt.xlabel('Neighbourhood Codes')\n",
    "plt.ylabel('Counts')"
   ]
  },
  {
   "cell_type": "code",
   "execution_count": 23,
   "id": "33ab6540",
   "metadata": {},
   "outputs": [
    {
     "data": {
      "text/html": [
       "<div>\n",
       "<style scoped>\n",
       "    .dataframe tbody tr th:only-of-type {\n",
       "        vertical-align: middle;\n",
       "    }\n",
       "\n",
       "    .dataframe tbody tr th {\n",
       "        vertical-align: top;\n",
       "    }\n",
       "\n",
       "    .dataframe thead th {\n",
       "        text-align: right;\n",
       "    }\n",
       "</style>\n",
       "<table border=\"1\" class=\"dataframe\">\n",
       "  <thead>\n",
       "    <tr style=\"text-align: right;\">\n",
       "      <th></th>\n",
       "      <th>id</th>\n",
       "      <th>host_id</th>\n",
       "      <th>latitude</th>\n",
       "      <th>longitude</th>\n",
       "      <th>price</th>\n",
       "      <th>minimum_nights</th>\n",
       "      <th>number_of_reviews</th>\n",
       "      <th>reviews_per_month</th>\n",
       "      <th>calculated_host_listings_count</th>\n",
       "      <th>availability_365</th>\n",
       "      <th>number_of_reviews_ltm</th>\n",
       "      <th>neighbourhood_group_code</th>\n",
       "    </tr>\n",
       "  </thead>\n",
       "  <tbody>\n",
       "    <tr>\n",
       "      <th>id</th>\n",
       "      <td>1.000000</td>\n",
       "      <td>0.469123</td>\n",
       "      <td>-0.115264</td>\n",
       "      <td>0.024447</td>\n",
       "      <td>0.054339</td>\n",
       "      <td>-0.057321</td>\n",
       "      <td>-0.583579</td>\n",
       "      <td>0.115852</td>\n",
       "      <td>0.256267</td>\n",
       "      <td>0.066139</td>\n",
       "      <td>-0.130905</td>\n",
       "      <td>-0.089908</td>\n",
       "    </tr>\n",
       "    <tr>\n",
       "      <th>host_id</th>\n",
       "      <td>0.469123</td>\n",
       "      <td>1.000000</td>\n",
       "      <td>-0.055703</td>\n",
       "      <td>0.074124</td>\n",
       "      <td>0.031915</td>\n",
       "      <td>-0.017651</td>\n",
       "      <td>-0.265292</td>\n",
       "      <td>0.041577</td>\n",
       "      <td>0.067942</td>\n",
       "      <td>0.082631</td>\n",
       "      <td>-0.075681</td>\n",
       "      <td>-0.025111</td>\n",
       "    </tr>\n",
       "    <tr>\n",
       "      <th>latitude</th>\n",
       "      <td>-0.115264</td>\n",
       "      <td>-0.055703</td>\n",
       "      <td>1.000000</td>\n",
       "      <td>-0.118204</td>\n",
       "      <td>0.001719</td>\n",
       "      <td>0.052138</td>\n",
       "      <td>0.040695</td>\n",
       "      <td>-0.049478</td>\n",
       "      <td>0.009384</td>\n",
       "      <td>0.001050</td>\n",
       "      <td>-0.020501</td>\n",
       "      <td>-0.017342</td>\n",
       "    </tr>\n",
       "    <tr>\n",
       "      <th>longitude</th>\n",
       "      <td>0.024447</td>\n",
       "      <td>0.074124</td>\n",
       "      <td>-0.118204</td>\n",
       "      <td>1.000000</td>\n",
       "      <td>-0.045046</td>\n",
       "      <td>0.030923</td>\n",
       "      <td>-0.057334</td>\n",
       "      <td>-0.030739</td>\n",
       "      <td>0.028380</td>\n",
       "      <td>-0.002821</td>\n",
       "      <td>-0.079986</td>\n",
       "      <td>-0.147471</td>\n",
       "    </tr>\n",
       "    <tr>\n",
       "      <th>price</th>\n",
       "      <td>0.054339</td>\n",
       "      <td>0.031915</td>\n",
       "      <td>0.001719</td>\n",
       "      <td>-0.045046</td>\n",
       "      <td>1.000000</td>\n",
       "      <td>0.074901</td>\n",
       "      <td>-0.114551</td>\n",
       "      <td>-0.078834</td>\n",
       "      <td>-0.005114</td>\n",
       "      <td>0.076917</td>\n",
       "      <td>-0.084917</td>\n",
       "      <td>-0.002086</td>\n",
       "    </tr>\n",
       "    <tr>\n",
       "      <th>minimum_nights</th>\n",
       "      <td>-0.057321</td>\n",
       "      <td>-0.017651</td>\n",
       "      <td>0.052138</td>\n",
       "      <td>0.030923</td>\n",
       "      <td>0.074901</td>\n",
       "      <td>1.000000</td>\n",
       "      <td>-0.196388</td>\n",
       "      <td>-0.254873</td>\n",
       "      <td>0.225742</td>\n",
       "      <td>0.210980</td>\n",
       "      <td>-0.362231</td>\n",
       "      <td>-0.057070</td>\n",
       "    </tr>\n",
       "    <tr>\n",
       "      <th>number_of_reviews</th>\n",
       "      <td>-0.583579</td>\n",
       "      <td>-0.265292</td>\n",
       "      <td>0.040695</td>\n",
       "      <td>-0.057334</td>\n",
       "      <td>-0.114551</td>\n",
       "      <td>-0.196388</td>\n",
       "      <td>1.000000</td>\n",
       "      <td>0.263169</td>\n",
       "      <td>-0.238220</td>\n",
       "      <td>-0.126797</td>\n",
       "      <td>0.585162</td>\n",
       "      <td>0.003721</td>\n",
       "    </tr>\n",
       "    <tr>\n",
       "      <th>reviews_per_month</th>\n",
       "      <td>0.115852</td>\n",
       "      <td>0.041577</td>\n",
       "      <td>-0.049478</td>\n",
       "      <td>-0.030739</td>\n",
       "      <td>-0.078834</td>\n",
       "      <td>-0.254873</td>\n",
       "      <td>0.263169</td>\n",
       "      <td>1.000000</td>\n",
       "      <td>-0.145152</td>\n",
       "      <td>-0.067290</td>\n",
       "      <td>0.456939</td>\n",
       "      <td>-0.018816</td>\n",
       "    </tr>\n",
       "    <tr>\n",
       "      <th>calculated_host_listings_count</th>\n",
       "      <td>0.256267</td>\n",
       "      <td>0.067942</td>\n",
       "      <td>0.009384</td>\n",
       "      <td>0.028380</td>\n",
       "      <td>-0.005114</td>\n",
       "      <td>0.225742</td>\n",
       "      <td>-0.238220</td>\n",
       "      <td>-0.145152</td>\n",
       "      <td>1.000000</td>\n",
       "      <td>0.231524</td>\n",
       "      <td>-0.235062</td>\n",
       "      <td>-0.134181</td>\n",
       "    </tr>\n",
       "    <tr>\n",
       "      <th>availability_365</th>\n",
       "      <td>0.066139</td>\n",
       "      <td>0.082631</td>\n",
       "      <td>0.001050</td>\n",
       "      <td>-0.002821</td>\n",
       "      <td>0.076917</td>\n",
       "      <td>0.210980</td>\n",
       "      <td>-0.126797</td>\n",
       "      <td>-0.067290</td>\n",
       "      <td>0.231524</td>\n",
       "      <td>1.000000</td>\n",
       "      <td>-0.150302</td>\n",
       "      <td>-0.019423</td>\n",
       "    </tr>\n",
       "    <tr>\n",
       "      <th>number_of_reviews_ltm</th>\n",
       "      <td>-0.130905</td>\n",
       "      <td>-0.075681</td>\n",
       "      <td>-0.020501</td>\n",
       "      <td>-0.079986</td>\n",
       "      <td>-0.084917</td>\n",
       "      <td>-0.362231</td>\n",
       "      <td>0.585162</td>\n",
       "      <td>0.456939</td>\n",
       "      <td>-0.235062</td>\n",
       "      <td>-0.150302</td>\n",
       "      <td>1.000000</td>\n",
       "      <td>0.011770</td>\n",
       "    </tr>\n",
       "    <tr>\n",
       "      <th>neighbourhood_group_code</th>\n",
       "      <td>-0.089908</td>\n",
       "      <td>-0.025111</td>\n",
       "      <td>-0.017342</td>\n",
       "      <td>-0.147471</td>\n",
       "      <td>-0.002086</td>\n",
       "      <td>-0.057070</td>\n",
       "      <td>0.003721</td>\n",
       "      <td>-0.018816</td>\n",
       "      <td>-0.134181</td>\n",
       "      <td>-0.019423</td>\n",
       "      <td>0.011770</td>\n",
       "      <td>1.000000</td>\n",
       "    </tr>\n",
       "  </tbody>\n",
       "</table>\n",
       "</div>"
      ],
      "text/plain": [
       "                                      id   host_id  latitude  longitude  \\\n",
       "id                              1.000000  0.469123 -0.115264   0.024447   \n",
       "host_id                         0.469123  1.000000 -0.055703   0.074124   \n",
       "latitude                       -0.115264 -0.055703  1.000000  -0.118204   \n",
       "longitude                       0.024447  0.074124 -0.118204   1.000000   \n",
       "price                           0.054339  0.031915  0.001719  -0.045046   \n",
       "minimum_nights                 -0.057321 -0.017651  0.052138   0.030923   \n",
       "number_of_reviews              -0.583579 -0.265292  0.040695  -0.057334   \n",
       "reviews_per_month               0.115852  0.041577 -0.049478  -0.030739   \n",
       "calculated_host_listings_count  0.256267  0.067942  0.009384   0.028380   \n",
       "availability_365                0.066139  0.082631  0.001050  -0.002821   \n",
       "number_of_reviews_ltm          -0.130905 -0.075681 -0.020501  -0.079986   \n",
       "neighbourhood_group_code       -0.089908 -0.025111 -0.017342  -0.147471   \n",
       "\n",
       "                                   price  minimum_nights  number_of_reviews  \\\n",
       "id                              0.054339       -0.057321          -0.583579   \n",
       "host_id                         0.031915       -0.017651          -0.265292   \n",
       "latitude                        0.001719        0.052138           0.040695   \n",
       "longitude                      -0.045046        0.030923          -0.057334   \n",
       "price                           1.000000        0.074901          -0.114551   \n",
       "minimum_nights                  0.074901        1.000000          -0.196388   \n",
       "number_of_reviews              -0.114551       -0.196388           1.000000   \n",
       "reviews_per_month              -0.078834       -0.254873           0.263169   \n",
       "calculated_host_listings_count -0.005114        0.225742          -0.238220   \n",
       "availability_365                0.076917        0.210980          -0.126797   \n",
       "number_of_reviews_ltm          -0.084917       -0.362231           0.585162   \n",
       "neighbourhood_group_code       -0.002086       -0.057070           0.003721   \n",
       "\n",
       "                                reviews_per_month  \\\n",
       "id                                       0.115852   \n",
       "host_id                                  0.041577   \n",
       "latitude                                -0.049478   \n",
       "longitude                               -0.030739   \n",
       "price                                   -0.078834   \n",
       "minimum_nights                          -0.254873   \n",
       "number_of_reviews                        0.263169   \n",
       "reviews_per_month                        1.000000   \n",
       "calculated_host_listings_count          -0.145152   \n",
       "availability_365                        -0.067290   \n",
       "number_of_reviews_ltm                    0.456939   \n",
       "neighbourhood_group_code                -0.018816   \n",
       "\n",
       "                                calculated_host_listings_count  \\\n",
       "id                                                    0.256267   \n",
       "host_id                                               0.067942   \n",
       "latitude                                              0.009384   \n",
       "longitude                                             0.028380   \n",
       "price                                                -0.005114   \n",
       "minimum_nights                                        0.225742   \n",
       "number_of_reviews                                    -0.238220   \n",
       "reviews_per_month                                    -0.145152   \n",
       "calculated_host_listings_count                        1.000000   \n",
       "availability_365                                      0.231524   \n",
       "number_of_reviews_ltm                                -0.235062   \n",
       "neighbourhood_group_code                             -0.134181   \n",
       "\n",
       "                                availability_365  number_of_reviews_ltm  \\\n",
       "id                                      0.066139              -0.130905   \n",
       "host_id                                 0.082631              -0.075681   \n",
       "latitude                                0.001050              -0.020501   \n",
       "longitude                              -0.002821              -0.079986   \n",
       "price                                   0.076917              -0.084917   \n",
       "minimum_nights                          0.210980              -0.362231   \n",
       "number_of_reviews                      -0.126797               0.585162   \n",
       "reviews_per_month                      -0.067290               0.456939   \n",
       "calculated_host_listings_count          0.231524              -0.235062   \n",
       "availability_365                        1.000000              -0.150302   \n",
       "number_of_reviews_ltm                  -0.150302               1.000000   \n",
       "neighbourhood_group_code               -0.019423               0.011770   \n",
       "\n",
       "                                neighbourhood_group_code  \n",
       "id                                             -0.089908  \n",
       "host_id                                        -0.025111  \n",
       "latitude                                       -0.017342  \n",
       "longitude                                      -0.147471  \n",
       "price                                          -0.002086  \n",
       "minimum_nights                                 -0.057070  \n",
       "number_of_reviews                               0.003721  \n",
       "reviews_per_month                              -0.018816  \n",
       "calculated_host_listings_count                 -0.134181  \n",
       "availability_365                               -0.019423  \n",
       "number_of_reviews_ltm                           0.011770  \n",
       "neighbourhood_group_code                        1.000000  "
      ]
     },
     "execution_count": 23,
     "metadata": {},
     "output_type": "execute_result"
    }
   ],
   "source": [
    "df.corr()"
   ]
  },
  {
   "cell_type": "code",
   "execution_count": null,
   "id": "31101912",
   "metadata": {},
   "outputs": [],
   "source": []
  }
 ],
 "metadata": {
  "kernelspec": {
   "display_name": "Python 3",
   "language": "python",
   "name": "python3"
  },
  "language_info": {
   "codemirror_mode": {
    "name": "ipython",
    "version": 3
   },
   "file_extension": ".py",
   "mimetype": "text/x-python",
   "name": "python",
   "nbconvert_exporter": "python",
   "pygments_lexer": "ipython3",
   "version": "3.8.8"
  }
 },
 "nbformat": 4,
 "nbformat_minor": 5
}
