{
 "cells": [
  {
   "cell_type": "code",
   "execution_count": 30,
   "id": "9bde91d0-6603-4c28-afe2-1238f61d3239",
   "metadata": {
    "scrolled": true,
    "tags": []
   },
   "outputs": [],
   "source": [
    "from sklearn import metrics\n",
    "from sklearn import preprocessing\n",
    "from sklearn import model_selection\n",
    "from sklearn import feature_selection\n",
    "import xgboost\n",
    "import pandas as pd\n",
    "import ast\n",
    "import operator\n",
    "import math"
   ]
  },
  {
   "cell_type": "code",
   "execution_count": 31,
   "id": "d6539d7f-8bbb-4783-9594-3e0c9d4673d1",
   "metadata": {},
   "outputs": [],
   "source": [
    "# Load up data\n",
    "# Raw = ~37k rows\n",
    "df1 = pd.read_csv('Data/nyc_listings.csv')\n",
    "df2 = pd.read_csv('Data/nyc_revenue_listingid.csv')\n",
    "\n",
    "df = pd.merge(df1, df2, on='id')"
   ]
  },
  {
   "cell_type": "code",
   "execution_count": 32,
   "id": "ba2ce78c",
   "metadata": {},
   "outputs": [],
   "source": [
    "# Parse and count amenities\n",
    "a = df['amenities']\n",
    "\n",
    "counts = dict()\n",
    "for amlist in a:\n",
    "   res = ast.literal_eval(amlist)\n",
    "   for i in res:\n",
    "      counts[i] = counts.get(i, 0) + 1\n",
    "\n",
    "sorted_counts = sorted(counts.items(), key=operator.itemgetter(1), reverse=True)\n",
    "\n",
    "textfile = open(\"Sorted Amenities.csv\", \"w\")\n",
    "for element in sorted_counts:\n",
    "    textfile.write(element[0] + \", \" + str(element[1]) + \"\\n\")\n",
    "textfile.close()"
   ]
  },
  {
   "cell_type": "code",
   "execution_count": 55,
   "id": "15dd2ce2",
   "metadata": {},
   "outputs": [
    {
     "data": {
      "text/plain": [
       "(7196, 54)"
      ]
     },
     "execution_count": 55,
     "metadata": {},
     "output_type": "execute_result"
    }
   ],
   "source": [
    "# Remove outliers and properties with no bed/bath or income data\n",
    "dffinal = df[df['availability_365'] < 365]+df[df['availability_365'] > 0]\n",
    "dffinal = dffinal[dffinal['bathrooms_text'].notnull()]\n",
    "dffinal = dffinal[dffinal['bedrooms'].notnull()]\n",
    "dffinal = dffinal[dffinal['Sum Price'].notnull()]\n",
    "\n",
    "# Manual feature selection\n",
    "dffinal = dffinal[[#'name', \n",
    "#'description',\n",
    "#'neighborhood_overview', \n",
    "#'picture_url', \n",
    "#'host_id', \n",
    "#'host_url',\n",
    "#'host_name', \n",
    "'host_since', \n",
    "'host_location', \n",
    "#'host_about',\n",
    "'host_response_time', \n",
    "'host_response_rate', \n",
    "'host_acceptance_rate',\n",
    "#'host_is_superhost', \n",
    "#'host_thumbnail_url', \n",
    "#'host_picture_url',\n",
    "'host_neighbourhood', \n",
    "'host_listings_count',\n",
    "'host_total_listings_count', \n",
    "#'host_verifications',\n",
    "'host_has_profile_pic', \n",
    "'host_identity_verified', \n",
    "'neighbourhood',\n",
    "'neighbourhood_cleansed', \n",
    "'neighbourhood_group_cleansed', \n",
    "'latitude',\n",
    "'longitude', \n",
    "'property_type', \n",
    "'room_type', \n",
    "'accommodates', \n",
    "#'bathrooms',\n",
    "'bathrooms_text', \n",
    "'bedrooms', \n",
    "'beds', \n",
    "'amenities', \n",
    "'price',\n",
    "'minimum_nights', \n",
    "'maximum_nights', \n",
    "'minimum_minimum_nights',\n",
    "'maximum_minimum_nights', \n",
    "'minimum_maximum_nights',\n",
    "'maximum_maximum_nights', \n",
    "'minimum_nights_avg_ntm',\n",
    "'maximum_nights_avg_ntm', \n",
    "#'calendar_updated', \n",
    "'has_availability',\n",
    "'availability_30', \n",
    "'availability_60', \n",
    "'availability_90',\n",
    "'availability_365', \n",
    "'calendar_last_scraped', \n",
    "'number_of_reviews',\n",
    "'number_of_reviews_ltm', \n",
    "'number_of_reviews_l30d', \n",
    "#'first_review',\n",
    "#'last_review', \n",
    "'review_scores_rating', \n",
    "'review_scores_accuracy',\n",
    "'review_scores_cleanliness', \n",
    "'review_scores_checkin',\n",
    "'review_scores_communication', \n",
    "'review_scores_location',\n",
    "'review_scores_value', \n",
    "#'license', \n",
    "'instant_bookable',\n",
    "'calculated_host_listings_count',\n",
    "'calculated_host_listings_count_entire_homes',\n",
    "'calculated_host_listings_count_private_rooms',\n",
    "'calculated_host_listings_count_shared_rooms', \n",
    "'reviews_per_month', \n",
    "'Sum Price']]\n",
    "\n",
    "# Drop any rows with null values\n",
    "dffinal = dffinal.dropna()\n",
    "\n",
    "dffinal.shape"
   ]
  },
  {
   "cell_type": "code",
   "execution_count": 56,
   "id": "ca3af2b8-8b97-4869-bfdc-c020f6137788",
   "metadata": {},
   "outputs": [],
   "source": [
    "# Use LabelEncoder to encode categorical data\n",
    "le = preprocessing.LabelEncoder()\n",
    "for col in dffinal.columns:\n",
    "    if dffinal[col].dtype == object:\n",
    "        dffinal[col] = le.fit_transform(dffinal[col])\n",
    "    else:\n",
    "        pass\n",
    "\n",
    "# Assign data to X and target to Y variables\n",
    "y = dffinal['Sum Price']\n",
    "x = dffinal.iloc[:,:-1]"
   ]
  },
  {
   "cell_type": "code",
   "execution_count": 58,
   "id": "7f340467",
   "metadata": {},
   "outputs": [
    {
     "name": "stderr",
     "output_type": "stream",
     "text": [
      "C:\\ProgramData\\Anaconda3\\lib\\site-packages\\sklearn\\feature_selection\\_univariate_selection.py:114: UserWarning: Features [31] are constant.\n",
      "  warnings.warn(\"Features %s are constant.\" % constant_features_idx,\n",
      "C:\\ProgramData\\Anaconda3\\lib\\site-packages\\sklearn\\feature_selection\\_univariate_selection.py:116: RuntimeWarning: invalid value encountered in true_divide\n",
      "  f = msb / msw\n"
     ]
    },
    {
     "data": {
      "text/plain": [
       "(7196, 10)"
      ]
     },
     "execution_count": 58,
     "metadata": {},
     "output_type": "execute_result"
    }
   ],
   "source": [
    "dffinal = feature_selection.SelectKBest(k=10).fit_transform(x,y)\n",
    "dffinal.shape"
   ]
  },
  {
   "cell_type": "code",
   "execution_count": 51,
   "id": "cab100b9-21d6-4aed-a674-bab61c04d631",
   "metadata": {},
   "outputs": [
    {
     "name": "stdout",
     "output_type": "stream",
     "text": [
      "---------- Splitting Data 9:1 Train:Test-----------------\n",
      "------------------- Fitting Model ----------------------\n"
     ]
    },
    {
     "data": {
      "text/plain": [
       "XGBRegressor(base_score=0.5, booster='gbtree', colsample_bylevel=1,\n",
       "             colsample_bynode=1, colsample_bytree=1, eval_metric='rmse',\n",
       "             gamma=0, gpu_id=-1, importance_type='gain',\n",
       "             interaction_constraints='', learning_rate=0.300000012,\n",
       "             max_delta_step=0, max_depth=6, min_child_weight=1, missing=nan,\n",
       "             monotone_constraints='()', n_estimators=100, n_jobs=8,\n",
       "             num_parallel_tree=1, random_state=0, reg_alpha=0, reg_lambda=1,\n",
       "             scale_pos_weight=1, subsample=1, tree_method='exact',\n",
       "             validate_parameters=1, verbosity=None)"
      ]
     },
     "execution_count": 51,
     "metadata": {},
     "output_type": "execute_result"
    }
   ],
   "source": [
    "# Split data into 90/10 Train/Test ratio\n",
    "print(\"---------- Splitting Data 9:1 Train:Test-----------------\")\n",
    "x_train, x_test, y_train, y_test = model_selection.train_test_split(x, y, test_size=0.1)\n",
    "\n",
    "# Specifying the model to use\n",
    "xg = xgboost.XGBRegressor(eval_metric='rmse')\n",
    "\n",
    "\n",
    "# Model fitting i.e., creating the model\n",
    "print(\"------------------- Fitting Model ----------------------\")\n",
    "xg.fit(x_train, y_train)"
   ]
  },
  {
   "cell_type": "code",
   "execution_count": 52,
   "id": "97158d80-f9b4-4ff6-8a1f-f30c70e75b6e",
   "metadata": {},
   "outputs": [
    {
     "name": "stdout",
     "output_type": "stream",
     "text": [
      "------------------ Making Predictions ------------------\n"
     ]
    }
   ],
   "source": [
    "# Make predictions\n",
    "print(\"------------------ Making Predictions ------------------\")\n",
    "expected = y_test\n",
    "\n",
    "xgpredicted = xg.predict(x_test)"
   ]
  },
  {
   "cell_type": "code",
   "execution_count": 53,
   "id": "3f7f7746-a567-4f52-b900-72c23aab083c",
   "metadata": {},
   "outputs": [
    {
     "name": "stdout",
     "output_type": "stream",
     "text": [
      "Model: XGBoost\n",
      "XGBRegressor(base_score=0.5, booster='gbtree', colsample_bylevel=1,\n",
      "             colsample_bynode=1, colsample_bytree=1, eval_metric='rmse',\n",
      "             gamma=0, gpu_id=-1, importance_type='gain',\n",
      "             interaction_constraints='', learning_rate=0.300000012,\n",
      "             max_delta_step=0, max_depth=6, min_child_weight=1, missing=nan,\n",
      "             monotone_constraints='()', n_estimators=100, n_jobs=8,\n",
      "             num_parallel_tree=1, random_state=0, reg_alpha=0, reg_lambda=1,\n",
      "             scale_pos_weight=1, subsample=1, tree_method='exact',\n",
      "             validate_parameters=1, verbosity=None)\n",
      "MAE: 11528.359262212118\n",
      "RMSE: 23059.4322329453\n",
      "\n",
      "\n"
     ]
    }
   ],
   "source": [
    "# Print performance metrics\n",
    "print(\"Model: XGBoost\")\n",
    "print(xg)\n",
    "print('MAE: ' + str(metrics.mean_absolute_error(y_test, xgpredicted)))\n",
    "print('RMSE: ' + str(math.sqrt(metrics.mean_squared_error(y_test, xgpredicted))))\n",
    "print('\\n')"
   ]
  },
  {
   "cell_type": "code",
   "execution_count": 54,
   "id": "3931aa6e-7e78-4390-914a-d404622ff5f6",
   "metadata": {},
   "outputs": [
    {
     "name": "stdout",
     "output_type": "stream",
     "text": [
      "------------ Cross Validation Scores -----------------\n",
      "XG:0.6744470723632416\n"
     ]
    }
   ],
   "source": [
    "print(\"------------ Cross Validation Scores -----------------\")\n",
    "# Report cross validation scores (10 runs each)\n",
    "xgscore = model_selection.cross_val_score(xg, x, y, cv=10)\n",
    "score = sum(xgscore)/10\n",
    "print('XG:' + str(score))"
   ]
  }
 ],
 "metadata": {
  "interpreter": {
   "hash": "662c828cf56c9334e46424f5e62cae019607d0de7d2b94cbaea5bb53d6012d16"
  },
  "kernelspec": {
   "display_name": "Python 3.9.8 64-bit (windows store)",
   "name": "python3"
  },
  "language_info": {
   "codemirror_mode": {
    "name": "ipython",
    "version": 3
   },
   "file_extension": ".py",
   "mimetype": "text/x-python",
   "name": "python",
   "nbconvert_exporter": "python",
   "pygments_lexer": "ipython3",
   "version": "3.9.8"
  },
  "toc-autonumbering": true,
  "toc-showmarkdowntxt": true
 },
 "nbformat": 4,
 "nbformat_minor": 5
}
